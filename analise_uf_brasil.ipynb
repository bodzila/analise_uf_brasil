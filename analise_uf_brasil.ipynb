{
 "cells": [
  {
   "cell_type": "markdown",
   "id": "7015530d-73ea-47d0-ab61-f43f135467f3",
   "metadata": {},
   "source": [
    "## Análise da Expectativa de Vida vs Renda Média per Capita nos Estados do Brasil"
   ]
  },
  {
   "cell_type": "code",
   "execution_count": 131,
   "id": "9851a22f-8515-4082-ba34-2c0a91abf12c",
   "metadata": {},
   "outputs": [],
   "source": [
    "import pandas as pd\n",
    "import plotly.express as px"
   ]
  },
  {
   "cell_type": "code",
   "execution_count": 132,
   "id": "4254e16f-1e24-4739-b707-8ed93edae3bb",
   "metadata": {},
   "outputs": [],
   "source": [
    "df = pd.read_excel('data_uf_brasil.xlsx')"
   ]
  },
  {
   "cell_type": "code",
   "execution_count": 133,
   "id": "03c6cac4-df3c-4e10-89de-73f765062cef",
   "metadata": {},
   "outputs": [
    {
     "data": {
      "text/html": [
       "<div>\n",
       "<style scoped>\n",
       "    .dataframe tbody tr th:only-of-type {\n",
       "        vertical-align: middle;\n",
       "    }\n",
       "\n",
       "    .dataframe tbody tr th {\n",
       "        vertical-align: top;\n",
       "    }\n",
       "\n",
       "    .dataframe thead th {\n",
       "        text-align: right;\n",
       "    }\n",
       "</style>\n",
       "<table border=\"1\" class=\"dataframe\">\n",
       "  <thead>\n",
       "    <tr style=\"text-align: right;\">\n",
       "      <th></th>\n",
       "      <th>uf</th>\n",
       "      <th>reg</th>\n",
       "      <th>rpc</th>\n",
       "      <th>exp</th>\n",
       "      <th>pop</th>\n",
       "    </tr>\n",
       "  </thead>\n",
       "  <tbody>\n",
       "    <tr>\n",
       "      <th>0</th>\n",
       "      <td>DF</td>\n",
       "      <td>Centro-Oeste</td>\n",
       "      <td>2475</td>\n",
       "      <td>79.3</td>\n",
       "      <td>2923369</td>\n",
       "    </tr>\n",
       "    <tr>\n",
       "      <th>1</th>\n",
       "      <td>SP</td>\n",
       "      <td>Sudeste</td>\n",
       "      <td>1814</td>\n",
       "      <td>79.3</td>\n",
       "      <td>46024937</td>\n",
       "    </tr>\n",
       "    <tr>\n",
       "      <th>2</th>\n",
       "      <td>RS</td>\n",
       "      <td>Sul</td>\n",
       "      <td>1759</td>\n",
       "      <td>79.0</td>\n",
       "      <td>11088065</td>\n",
       "    </tr>\n",
       "    <tr>\n",
       "      <th>3</th>\n",
       "      <td>RJ</td>\n",
       "      <td>Sudeste</td>\n",
       "      <td>1723</td>\n",
       "      <td>77.5</td>\n",
       "      <td>16615526</td>\n",
       "    </tr>\n",
       "    <tr>\n",
       "      <th>4</th>\n",
       "      <td>SC</td>\n",
       "      <td>Sul</td>\n",
       "      <td>1632</td>\n",
       "      <td>80.4</td>\n",
       "      <td>7762154</td>\n",
       "    </tr>\n",
       "  </tbody>\n",
       "</table>\n",
       "</div>"
      ],
      "text/plain": [
       "   uf           reg   rpc   exp       pop\n",
       "0  DF  Centro-Oeste  2475  79.3   2923369\n",
       "1  SP       Sudeste  1814  79.3  46024937\n",
       "2  RS           Sul  1759  79.0  11088065\n",
       "3  RJ       Sudeste  1723  77.5  16615526\n",
       "4  SC           Sul  1632  80.4   7762154"
      ]
     },
     "execution_count": 133,
     "metadata": {},
     "output_type": "execute_result"
    }
   ],
   "source": [
    "df.head()"
   ]
  },
  {
   "cell_type": "code",
   "execution_count": 134,
   "id": "b7cda5f1-8677-465a-b5bc-016371b966d5",
   "metadata": {},
   "outputs": [
    {
     "data": {
      "application/vnd.plotly.v1+json": {
       "config": {
        "plotlyServerURL": "https://plot.ly"
       },
       "data": [
        {
         "hovertemplate": "Região=Centro-Oeste<br>Renda per Capita (R$)=%{x}<br>Expectativa de Vida (em anos)=%{y}<br>pop=%{marker.size}<br>uf=%{text}<extra></extra>",
         "legendgroup": "Centro-Oeste",
         "marker": {
          "color": "#F8766D",
          "opacity": 0.8,
          "size": [
           2923369,
           2833742,
           3784239,
           6950976
          ],
          "sizemode": "area",
          "sizeref": 18409.9748,
          "symbol": "circle"
         },
         "mode": "markers+text",
         "name": "Centro-Oeste",
         "orientation": "v",
         "showlegend": true,
         "text": [
          "DF",
          "MS",
          "MT",
          "GO"
         ],
         "textfont": {
          "size": 9
         },
         "textposition": "middle center",
         "type": "scatter",
         "x": [
          2475,
          1488,
          1401,
          1258
         ],
         "xaxis": "x",
         "y": [
          79.3,
          76.7,
          75.3,
          74.9
         ],
         "yaxis": "y"
        },
        {
         "hovertemplate": "Região=Sudeste<br>Renda per Capita (R$)=%{x}<br>Expectativa de Vida (em anos)=%{y}<br>pop=%{marker.size}<br>uf=%{text}<extra></extra>",
         "legendgroup": "Sudeste",
         "marker": {
          "color": "#A3A500",
          "opacity": 0.8,
          "size": [
           46024937,
           16615526,
           20732660,
           4108508
          ],
          "sizemode": "area",
          "sizeref": 18409.9748,
          "symbol": "circle"
         },
         "mode": "markers+text",
         "name": "Sudeste",
         "orientation": "v",
         "showlegend": true,
         "text": [
          "SP",
          "RJ",
          "MG",
          "ES"
         ],
         "textfont": {
          "size": 9
         },
         "textposition": "middle center",
         "type": "scatter",
         "x": [
          1814,
          1723,
          1314,
          1347
         ],
         "xaxis": "x",
         "y": [
          79.3,
          77.5,
          78.4,
          79.5
         ],
         "yaxis": "y"
        },
        {
         "hovertemplate": "Região=Sul<br>Renda per Capita (R$)=%{x}<br>Expectativa de Vida (em anos)=%{y}<br>pop=%{marker.size}<br>uf=%{text}<extra></extra>",
         "legendgroup": "Sul",
         "marker": {
          "color": "#00BF7D",
          "opacity": 0.8,
          "size": [
           11088065,
           7762154,
           11835379
          ],
          "sizemode": "area",
          "sizeref": 18409.9748,
          "symbol": "circle"
         },
         "mode": "markers+text",
         "name": "Sul",
         "orientation": "v",
         "showlegend": true,
         "text": [
          "RS",
          "SC",
          "PR"
         ],
         "textfont": {
          "size": 9
         },
         "textposition": "middle center",
         "type": "scatter",
         "x": [
          1759,
          1632,
          1508
         ],
         "xaxis": "x",
         "y": [
          79,
          80.4,
          78.4
         ],
         "yaxis": "y"
        },
        {
         "hovertemplate": "Região=Nordeste<br>Renda per Capita (R$)=%{x}<br>Expectativa de Vida (em anos)=%{y}<br>pop=%{marker.size}<br>uf=%{text}<extra></extra>",
         "legendgroup": "Nordeste",
         "marker": {
          "color": "#00B0F6",
          "opacity": 0.8,
          "size": [
           3303953,
           2211868,
           8936431,
           4030961,
           14659023,
           3270174,
           9051113,
           6800605
          ],
          "sizemode": "area",
          "sizeref": 18409.9748,
          "symbol": "circle"
         },
         "mode": "markers+text",
         "name": "Nordeste",
         "orientation": "v",
         "showlegend": true,
         "text": [
          "RN",
          "SE",
          "CE",
          "PB",
          "BA",
          "PI",
          "PE",
          "MA"
         ],
         "textfont": {
          "size": 9
         },
         "textposition": "middle center",
         "type": "scatter",
         "x": [
          1077,
          1028,
          1028,
          892,
          965,
          859,
          897,
          676
         ],
         "xaxis": "x",
         "y": [
          76.7,
          73.8,
          74.8,
          74.6,
          74.5,
          71.9,
          75.6,
          71.9
         ],
         "yaxis": "y"
        },
        {
         "hovertemplate": "Região=Norte<br>Renda per Capita (R$)=%{x}<br>Expectativa de Vida (em anos)=%{y}<br>pop=%{marker.size}<br>uf=%{text}<extra></extra>",
         "legendgroup": "Norte",
         "marker": {
          "color": "#E76BF3",
          "opacity": 0.8,
          "size": [
           634805,
           1584306,
           1616379,
           829780,
           774268,
           8442962,
           3952262,
           3125254
          ],
          "sizemode": "area",
          "sizeref": 18409.9748,
          "symbol": "circle"
         },
         "mode": "markers+text",
         "name": "Norte",
         "orientation": "v",
         "showlegend": true,
         "text": [
          "RR",
          "TO",
          "RO",
          "AC",
          "AP",
          "PA",
          "AM",
          "AL"
         ],
         "textfont": {
          "size": 9
         },
         "textposition": "middle center",
         "type": "scatter",
         "x": [
          983,
          1060,
          1169,
          917,
          893,
          883,
          852,
          796
         ],
         "xaxis": "x",
         "y": [
          72.9,
          74.6,
          72.2,
          75.3,
          75,
          73,
          73,
          73.3
         ],
         "yaxis": "y"
        }
       ],
       "layout": {
        "height": 600,
        "legend": {
         "itemsizing": "constant",
         "title": {
          "text": "Região"
         },
         "tracegroupgap": 0
        },
        "template": {
         "data": {
          "bar": [
           {
            "error_x": {
             "color": "rgb(51,51,51)"
            },
            "error_y": {
             "color": "rgb(51,51,51)"
            },
            "marker": {
             "line": {
              "color": "rgb(237,237,237)",
              "width": 0.5
             },
             "pattern": {
              "fillmode": "overlay",
              "size": 10,
              "solidity": 0.2
             }
            },
            "type": "bar"
           }
          ],
          "barpolar": [
           {
            "marker": {
             "line": {
              "color": "rgb(237,237,237)",
              "width": 0.5
             },
             "pattern": {
              "fillmode": "overlay",
              "size": 10,
              "solidity": 0.2
             }
            },
            "type": "barpolar"
           }
          ],
          "carpet": [
           {
            "aaxis": {
             "endlinecolor": "rgb(51,51,51)",
             "gridcolor": "white",
             "linecolor": "white",
             "minorgridcolor": "white",
             "startlinecolor": "rgb(51,51,51)"
            },
            "baxis": {
             "endlinecolor": "rgb(51,51,51)",
             "gridcolor": "white",
             "linecolor": "white",
             "minorgridcolor": "white",
             "startlinecolor": "rgb(51,51,51)"
            },
            "type": "carpet"
           }
          ],
          "choropleth": [
           {
            "colorbar": {
             "outlinewidth": 0,
             "tickcolor": "rgb(237,237,237)",
             "ticklen": 6,
             "ticks": "inside"
            },
            "type": "choropleth"
           }
          ],
          "contour": [
           {
            "colorbar": {
             "outlinewidth": 0,
             "tickcolor": "rgb(237,237,237)",
             "ticklen": 6,
             "ticks": "inside"
            },
            "colorscale": [
             [
              0,
              "rgb(20,44,66)"
             ],
             [
              1,
              "rgb(90,179,244)"
             ]
            ],
            "type": "contour"
           }
          ],
          "contourcarpet": [
           {
            "colorbar": {
             "outlinewidth": 0,
             "tickcolor": "rgb(237,237,237)",
             "ticklen": 6,
             "ticks": "inside"
            },
            "type": "contourcarpet"
           }
          ],
          "heatmap": [
           {
            "colorbar": {
             "outlinewidth": 0,
             "tickcolor": "rgb(237,237,237)",
             "ticklen": 6,
             "ticks": "inside"
            },
            "colorscale": [
             [
              0,
              "rgb(20,44,66)"
             ],
             [
              1,
              "rgb(90,179,244)"
             ]
            ],
            "type": "heatmap"
           }
          ],
          "heatmapgl": [
           {
            "colorbar": {
             "outlinewidth": 0,
             "tickcolor": "rgb(237,237,237)",
             "ticklen": 6,
             "ticks": "inside"
            },
            "colorscale": [
             [
              0,
              "rgb(20,44,66)"
             ],
             [
              1,
              "rgb(90,179,244)"
             ]
            ],
            "type": "heatmapgl"
           }
          ],
          "histogram": [
           {
            "marker": {
             "pattern": {
              "fillmode": "overlay",
              "size": 10,
              "solidity": 0.2
             }
            },
            "type": "histogram"
           }
          ],
          "histogram2d": [
           {
            "colorbar": {
             "outlinewidth": 0,
             "tickcolor": "rgb(237,237,237)",
             "ticklen": 6,
             "ticks": "inside"
            },
            "colorscale": [
             [
              0,
              "rgb(20,44,66)"
             ],
             [
              1,
              "rgb(90,179,244)"
             ]
            ],
            "type": "histogram2d"
           }
          ],
          "histogram2dcontour": [
           {
            "colorbar": {
             "outlinewidth": 0,
             "tickcolor": "rgb(237,237,237)",
             "ticklen": 6,
             "ticks": "inside"
            },
            "colorscale": [
             [
              0,
              "rgb(20,44,66)"
             ],
             [
              1,
              "rgb(90,179,244)"
             ]
            ],
            "type": "histogram2dcontour"
           }
          ],
          "mesh3d": [
           {
            "colorbar": {
             "outlinewidth": 0,
             "tickcolor": "rgb(237,237,237)",
             "ticklen": 6,
             "ticks": "inside"
            },
            "type": "mesh3d"
           }
          ],
          "parcoords": [
           {
            "line": {
             "colorbar": {
              "outlinewidth": 0,
              "tickcolor": "rgb(237,237,237)",
              "ticklen": 6,
              "ticks": "inside"
             }
            },
            "type": "parcoords"
           }
          ],
          "pie": [
           {
            "automargin": true,
            "type": "pie"
           }
          ],
          "scatter": [
           {
            "fillpattern": {
             "fillmode": "overlay",
             "size": 10,
             "solidity": 0.2
            },
            "type": "scatter"
           }
          ],
          "scatter3d": [
           {
            "line": {
             "colorbar": {
              "outlinewidth": 0,
              "tickcolor": "rgb(237,237,237)",
              "ticklen": 6,
              "ticks": "inside"
             }
            },
            "marker": {
             "colorbar": {
              "outlinewidth": 0,
              "tickcolor": "rgb(237,237,237)",
              "ticklen": 6,
              "ticks": "inside"
             }
            },
            "type": "scatter3d"
           }
          ],
          "scattercarpet": [
           {
            "marker": {
             "colorbar": {
              "outlinewidth": 0,
              "tickcolor": "rgb(237,237,237)",
              "ticklen": 6,
              "ticks": "inside"
             }
            },
            "type": "scattercarpet"
           }
          ],
          "scattergeo": [
           {
            "marker": {
             "colorbar": {
              "outlinewidth": 0,
              "tickcolor": "rgb(237,237,237)",
              "ticklen": 6,
              "ticks": "inside"
             }
            },
            "type": "scattergeo"
           }
          ],
          "scattergl": [
           {
            "marker": {
             "colorbar": {
              "outlinewidth": 0,
              "tickcolor": "rgb(237,237,237)",
              "ticklen": 6,
              "ticks": "inside"
             }
            },
            "type": "scattergl"
           }
          ],
          "scattermapbox": [
           {
            "marker": {
             "colorbar": {
              "outlinewidth": 0,
              "tickcolor": "rgb(237,237,237)",
              "ticklen": 6,
              "ticks": "inside"
             }
            },
            "type": "scattermapbox"
           }
          ],
          "scatterpolar": [
           {
            "marker": {
             "colorbar": {
              "outlinewidth": 0,
              "tickcolor": "rgb(237,237,237)",
              "ticklen": 6,
              "ticks": "inside"
             }
            },
            "type": "scatterpolar"
           }
          ],
          "scatterpolargl": [
           {
            "marker": {
             "colorbar": {
              "outlinewidth": 0,
              "tickcolor": "rgb(237,237,237)",
              "ticklen": 6,
              "ticks": "inside"
             }
            },
            "type": "scatterpolargl"
           }
          ],
          "scatterternary": [
           {
            "marker": {
             "colorbar": {
              "outlinewidth": 0,
              "tickcolor": "rgb(237,237,237)",
              "ticklen": 6,
              "ticks": "inside"
             }
            },
            "type": "scatterternary"
           }
          ],
          "surface": [
           {
            "colorbar": {
             "outlinewidth": 0,
             "tickcolor": "rgb(237,237,237)",
             "ticklen": 6,
             "ticks": "inside"
            },
            "colorscale": [
             [
              0,
              "rgb(20,44,66)"
             ],
             [
              1,
              "rgb(90,179,244)"
             ]
            ],
            "type": "surface"
           }
          ],
          "table": [
           {
            "cells": {
             "fill": {
              "color": "rgb(237,237,237)"
             },
             "line": {
              "color": "white"
             }
            },
            "header": {
             "fill": {
              "color": "rgb(217,217,217)"
             },
             "line": {
              "color": "white"
             }
            },
            "type": "table"
           }
          ]
         },
         "layout": {
          "annotationdefaults": {
           "arrowhead": 0,
           "arrowwidth": 1
          },
          "autotypenumbers": "strict",
          "coloraxis": {
           "colorbar": {
            "outlinewidth": 0,
            "tickcolor": "rgb(237,237,237)",
            "ticklen": 6,
            "ticks": "inside"
           }
          },
          "colorscale": {
           "sequential": [
            [
             0,
             "rgb(20,44,66)"
            ],
            [
             1,
             "rgb(90,179,244)"
            ]
           ],
           "sequentialminus": [
            [
             0,
             "rgb(20,44,66)"
            ],
            [
             1,
             "rgb(90,179,244)"
            ]
           ]
          },
          "colorway": [
           "#F8766D",
           "#A3A500",
           "#00BF7D",
           "#00B0F6",
           "#E76BF3"
          ],
          "font": {
           "color": "rgb(51,51,51)"
          },
          "geo": {
           "bgcolor": "white",
           "lakecolor": "white",
           "landcolor": "rgb(237,237,237)",
           "showlakes": true,
           "showland": true,
           "subunitcolor": "white"
          },
          "hoverlabel": {
           "align": "left"
          },
          "hovermode": "closest",
          "paper_bgcolor": "white",
          "plot_bgcolor": "rgb(237,237,237)",
          "polar": {
           "angularaxis": {
            "gridcolor": "white",
            "linecolor": "white",
            "showgrid": true,
            "tickcolor": "rgb(51,51,51)",
            "ticks": "outside"
           },
           "bgcolor": "rgb(237,237,237)",
           "radialaxis": {
            "gridcolor": "white",
            "linecolor": "white",
            "showgrid": true,
            "tickcolor": "rgb(51,51,51)",
            "ticks": "outside"
           }
          },
          "scene": {
           "xaxis": {
            "backgroundcolor": "rgb(237,237,237)",
            "gridcolor": "white",
            "gridwidth": 2,
            "linecolor": "white",
            "showbackground": true,
            "showgrid": true,
            "tickcolor": "rgb(51,51,51)",
            "ticks": "outside",
            "zerolinecolor": "white"
           },
           "yaxis": {
            "backgroundcolor": "rgb(237,237,237)",
            "gridcolor": "white",
            "gridwidth": 2,
            "linecolor": "white",
            "showbackground": true,
            "showgrid": true,
            "tickcolor": "rgb(51,51,51)",
            "ticks": "outside",
            "zerolinecolor": "white"
           },
           "zaxis": {
            "backgroundcolor": "rgb(237,237,237)",
            "gridcolor": "white",
            "gridwidth": 2,
            "linecolor": "white",
            "showbackground": true,
            "showgrid": true,
            "tickcolor": "rgb(51,51,51)",
            "ticks": "outside",
            "zerolinecolor": "white"
           }
          },
          "shapedefaults": {
           "fillcolor": "black",
           "line": {
            "width": 0
           },
           "opacity": 0.3
          },
          "ternary": {
           "aaxis": {
            "gridcolor": "white",
            "linecolor": "white",
            "showgrid": true,
            "tickcolor": "rgb(51,51,51)",
            "ticks": "outside"
           },
           "baxis": {
            "gridcolor": "white",
            "linecolor": "white",
            "showgrid": true,
            "tickcolor": "rgb(51,51,51)",
            "ticks": "outside"
           },
           "bgcolor": "rgb(237,237,237)",
           "caxis": {
            "gridcolor": "white",
            "linecolor": "white",
            "showgrid": true,
            "tickcolor": "rgb(51,51,51)",
            "ticks": "outside"
           }
          },
          "xaxis": {
           "automargin": true,
           "gridcolor": "white",
           "linecolor": "white",
           "showgrid": true,
           "tickcolor": "rgb(51,51,51)",
           "ticks": "outside",
           "title": {
            "standoff": 15
           },
           "zerolinecolor": "white"
          },
          "yaxis": {
           "automargin": true,
           "gridcolor": "white",
           "linecolor": "white",
           "showgrid": true,
           "tickcolor": "rgb(51,51,51)",
           "ticks": "outside",
           "title": {
            "standoff": 15
           },
           "zerolinecolor": "white"
          }
         }
        },
        "title": {
         "text": "Expectativa de Vida vs Renda per Capita no Brasil - por UF"
        },
        "width": 1200,
        "xaxis": {
         "anchor": "y",
         "domain": [
          0,
          1
         ],
         "nticks": 5,
         "range": [
          500,
          2500
         ],
         "title": {
          "text": "Renda per Capita (R$)"
         },
         "type": "linear"
        },
        "yaxis": {
         "anchor": "x",
         "domain": [
          0,
          1
         ],
         "nticks": 7,
         "range": [
          70,
          82
         ],
         "title": {
          "text": "Expectativa de Vida (em anos)"
         },
         "type": "linear"
        }
       }
      },
      "image/png": "[encoded data removed]",
      "text/html": [
       "<div>                            <div id=\"0d92d821-82e1-462e-aa82-9285d4292559\" class=\"plotly-graph-div\" style=\"height:600px; width:1200px;\"></div>            <script type=\"text/javascript\">                require([\"plotly\"], function(Plotly) {                    window.PLOTLYENV=window.PLOTLYENV || {};                                    if (document.getElementById(\"0d92d821-82e1-462e-aa82-9285d4292559\")) {                    Plotly.newPlot(                        \"0d92d821-82e1-462e-aa82-9285d4292559\",                        [{\"hovertemplate\":\"Regi\\u00e3o=Centro-Oeste<br>Renda per Capita (R$)=%{x}<br>Expectativa de Vida (em anos)=%{y}<br>pop=%{marker.size}<br>uf=%{text}<extra></extra>\",\"legendgroup\":\"Centro-Oeste\",\"marker\":{\"color\":\"#F8766D\",\"opacity\":0.8,\"size\":[2923369,2833742,3784239,6950976],\"sizemode\":\"area\",\"sizeref\":18409.9748,\"symbol\":\"circle\"},\"mode\":\"markers+text\",\"name\":\"Centro-Oeste\",\"orientation\":\"v\",\"showlegend\":true,\"text\":[\"DF\",\"MS\",\"MT\",\"GO\"],\"x\":[2475,1488,1401,1258],\"xaxis\":\"x\",\"y\":[79.3,76.7,75.3,74.9],\"yaxis\":\"y\",\"type\":\"scatter\",\"textfont\":{\"size\":9},\"textposition\":\"middle center\"},{\"hovertemplate\":\"Regi\\u00e3o=Sudeste<br>Renda per Capita (R$)=%{x}<br>Expectativa de Vida (em anos)=%{y}<br>pop=%{marker.size}<br>uf=%{text}<extra></extra>\",\"legendgroup\":\"Sudeste\",\"marker\":{\"color\":\"#A3A500\",\"opacity\":0.8,\"size\":[46024937,16615526,20732660,4108508],\"sizemode\":\"area\",\"sizeref\":18409.9748,\"symbol\":\"circle\"},\"mode\":\"markers+text\",\"name\":\"Sudeste\",\"orientation\":\"v\",\"showlegend\":true,\"text\":[\"SP\",\"RJ\",\"MG\",\"ES\"],\"x\":[1814,1723,1314,1347],\"xaxis\":\"x\",\"y\":[79.3,77.5,78.4,79.5],\"yaxis\":\"y\",\"type\":\"scatter\",\"textfont\":{\"size\":9},\"textposition\":\"middle center\"},{\"hovertemplate\":\"Regi\\u00e3o=Sul<br>Renda per Capita (R$)=%{x}<br>Expectativa de Vida (em anos)=%{y}<br>pop=%{marker.size}<br>uf=%{text}<extra></extra>\",\"legendgroup\":\"Sul\",\"marker\":{\"color\":\"#00BF7D\",\"opacity\":0.8,\"size\":[11088065,7762154,11835379],\"sizemode\":\"area\",\"sizeref\":18409.9748,\"symbol\":\"circle\"},\"mode\":\"markers+text\",\"name\":\"Sul\",\"orientation\":\"v\",\"showlegend\":true,\"text\":[\"RS\",\"SC\",\"PR\"],\"x\":[1759,1632,1508],\"xaxis\":\"x\",\"y\":[79.0,80.4,78.4],\"yaxis\":\"y\",\"type\":\"scatter\",\"textfont\":{\"size\":9},\"textposition\":\"middle center\"},{\"hovertemplate\":\"Regi\\u00e3o=Nordeste<br>Renda per Capita (R$)=%{x}<br>Expectativa de Vida (em anos)=%{y}<br>pop=%{marker.size}<br>uf=%{text}<extra></extra>\",\"legendgroup\":\"Nordeste\",\"marker\":{\"color\":\"#00B0F6\",\"opacity\":0.8,\"size\":[3303953,2211868,8936431,4030961,14659023,3270174,9051113,6800605],\"sizemode\":\"area\",\"sizeref\":18409.9748,\"symbol\":\"circle\"},\"mode\":\"markers+text\",\"name\":\"Nordeste\",\"orientation\":\"v\",\"showlegend\":true,\"text\":[\"RN\",\"SE\",\"CE\",\"PB\",\"BA\",\"PI\",\"PE\",\"MA\"],\"x\":[1077,1028,1028,892,965,859,897,676],\"xaxis\":\"x\",\"y\":[76.7,73.8,74.8,74.6,74.5,71.9,75.6,71.9],\"yaxis\":\"y\",\"type\":\"scatter\",\"textfont\":{\"size\":9},\"textposition\":\"middle center\"},{\"hovertemplate\":\"Regi\\u00e3o=Norte<br>Renda per Capita (R$)=%{x}<br>Expectativa de Vida (em anos)=%{y}<br>pop=%{marker.size}<br>uf=%{text}<extra></extra>\",\"legendgroup\":\"Norte\",\"marker\":{\"color\":\"#E76BF3\",\"opacity\":0.8,\"size\":[634805,1584306,1616379,829780,774268,8442962,3952262,3125254],\"sizemode\":\"area\",\"sizeref\":18409.9748,\"symbol\":\"circle\"},\"mode\":\"markers+text\",\"name\":\"Norte\",\"orientation\":\"v\",\"showlegend\":true,\"text\":[\"RR\",\"TO\",\"RO\",\"AC\",\"AP\",\"PA\",\"AM\",\"AL\"],\"x\":[983,1060,1169,917,893,883,852,796],\"xaxis\":\"x\",\"y\":[72.9,74.6,72.2,75.3,75.0,73.0,73.0,73.3],\"yaxis\":\"y\",\"type\":\"scatter\",\"textfont\":{\"size\":9},\"textposition\":\"middle center\"}],                        {\"template\":{\"data\":{\"barpolar\":[{\"marker\":{\"line\":{\"color\":\"rgb(237,237,237)\",\"width\":0.5},\"pattern\":{\"fillmode\":\"overlay\",\"size\":10,\"solidity\":0.2}},\"type\":\"barpolar\"}],\"bar\":[{\"error_x\":{\"color\":\"rgb(51,51,51)\"},\"error_y\":{\"color\":\"rgb(51,51,51)\"},\"marker\":{\"line\":{\"color\":\"rgb(237,237,237)\",\"width\":0.5},\"pattern\":{\"fillmode\":\"overlay\",\"size\":10,\"solidity\":0.2}},\"type\":\"bar\"}],\"carpet\":[{\"aaxis\":{\"endlinecolor\":\"rgb(51,51,51)\",\"gridcolor\":\"white\",\"linecolor\":\"white\",\"minorgridcolor\":\"white\",\"startlinecolor\":\"rgb(51,51,51)\"},\"baxis\":{\"endlinecolor\":\"rgb(51,51,51)\",\"gridcolor\":\"white\",\"linecolor\":\"white\",\"minorgridcolor\":\"white\",\"startlinecolor\":\"rgb(51,51,51)\"},\"type\":\"carpet\"}],\"choropleth\":[{\"colorbar\":{\"outlinewidth\":0,\"tickcolor\":\"rgb(237,237,237)\",\"ticklen\":6,\"ticks\":\"inside\"},\"type\":\"choropleth\"}],\"contourcarpet\":[{\"colorbar\":{\"outlinewidth\":0,\"tickcolor\":\"rgb(237,237,237)\",\"ticklen\":6,\"ticks\":\"inside\"},\"type\":\"contourcarpet\"}],\"contour\":[{\"colorbar\":{\"outlinewidth\":0,\"tickcolor\":\"rgb(237,237,237)\",\"ticklen\":6,\"ticks\":\"inside\"},\"colorscale\":[[0,\"rgb(20,44,66)\"],[1,\"rgb(90,179,244)\"]],\"type\":\"contour\"}],\"heatmapgl\":[{\"colorbar\":{\"outlinewidth\":0,\"tickcolor\":\"rgb(237,237,237)\",\"ticklen\":6,\"ticks\":\"inside\"},\"colorscale\":[[0,\"rgb(20,44,66)\"],[1,\"rgb(90,179,244)\"]],\"type\":\"heatmapgl\"}],\"heatmap\":[{\"colorbar\":{\"outlinewidth\":0,\"tickcolor\":\"rgb(237,237,237)\",\"ticklen\":6,\"ticks\":\"inside\"},\"colorscale\":[[0,\"rgb(20,44,66)\"],[1,\"rgb(90,179,244)\"]],\"type\":\"heatmap\"}],\"histogram2dcontour\":[{\"colorbar\":{\"outlinewidth\":0,\"tickcolor\":\"rgb(237,237,237)\",\"ticklen\":6,\"ticks\":\"inside\"},\"colorscale\":[[0,\"rgb(20,44,66)\"],[1,\"rgb(90,179,244)\"]],\"type\":\"histogram2dcontour\"}],\"histogram2d\":[{\"colorbar\":{\"outlinewidth\":0,\"tickcolor\":\"rgb(237,237,237)\",\"ticklen\":6,\"ticks\":\"inside\"},\"colorscale\":[[0,\"rgb(20,44,66)\"],[1,\"rgb(90,179,244)\"]],\"type\":\"histogram2d\"}],\"histogram\":[{\"marker\":{\"pattern\":{\"fillmode\":\"overlay\",\"size\":10,\"solidity\":0.2}},\"type\":\"histogram\"}],\"mesh3d\":[{\"colorbar\":{\"outlinewidth\":0,\"tickcolor\":\"rgb(237,237,237)\",\"ticklen\":6,\"ticks\":\"inside\"},\"type\":\"mesh3d\"}],\"parcoords\":[{\"line\":{\"colorbar\":{\"outlinewidth\":0,\"tickcolor\":\"rgb(237,237,237)\",\"ticklen\":6,\"ticks\":\"inside\"}},\"type\":\"parcoords\"}],\"pie\":[{\"automargin\":true,\"type\":\"pie\"}],\"scatter3d\":[{\"line\":{\"colorbar\":{\"outlinewidth\":0,\"tickcolor\":\"rgb(237,237,237)\",\"ticklen\":6,\"ticks\":\"inside\"}},\"marker\":{\"colorbar\":{\"outlinewidth\":0,\"tickcolor\":\"rgb(237,237,237)\",\"ticklen\":6,\"ticks\":\"inside\"}},\"type\":\"scatter3d\"}],\"scattercarpet\":[{\"marker\":{\"colorbar\":{\"outlinewidth\":0,\"tickcolor\":\"rgb(237,237,237)\",\"ticklen\":6,\"ticks\":\"inside\"}},\"type\":\"scattercarpet\"}],\"scattergeo\":[{\"marker\":{\"colorbar\":{\"outlinewidth\":0,\"tickcolor\":\"rgb(237,237,237)\",\"ticklen\":6,\"ticks\":\"inside\"}},\"type\":\"scattergeo\"}],\"scattergl\":[{\"marker\":{\"colorbar\":{\"outlinewidth\":0,\"tickcolor\":\"rgb(237,237,237)\",\"ticklen\":6,\"ticks\":\"inside\"}},\"type\":\"scattergl\"}],\"scattermapbox\":[{\"marker\":{\"colorbar\":{\"outlinewidth\":0,\"tickcolor\":\"rgb(237,237,237)\",\"ticklen\":6,\"ticks\":\"inside\"}},\"type\":\"scattermapbox\"}],\"scatterpolargl\":[{\"marker\":{\"colorbar\":{\"outlinewidth\":0,\"tickcolor\":\"rgb(237,237,237)\",\"ticklen\":6,\"ticks\":\"inside\"}},\"type\":\"scatterpolargl\"}],\"scatterpolar\":[{\"marker\":{\"colorbar\":{\"outlinewidth\":0,\"tickcolor\":\"rgb(237,237,237)\",\"ticklen\":6,\"ticks\":\"inside\"}},\"type\":\"scatterpolar\"}],\"scatter\":[{\"fillpattern\":{\"fillmode\":\"overlay\",\"size\":10,\"solidity\":0.2},\"type\":\"scatter\"}],\"scatterternary\":[{\"marker\":{\"colorbar\":{\"outlinewidth\":0,\"tickcolor\":\"rgb(237,237,237)\",\"ticklen\":6,\"ticks\":\"inside\"}},\"type\":\"scatterternary\"}],\"surface\":[{\"colorbar\":{\"outlinewidth\":0,\"tickcolor\":\"rgb(237,237,237)\",\"ticklen\":6,\"ticks\":\"inside\"},\"colorscale\":[[0,\"rgb(20,44,66)\"],[1,\"rgb(90,179,244)\"]],\"type\":\"surface\"}],\"table\":[{\"cells\":{\"fill\":{\"color\":\"rgb(237,237,237)\"},\"line\":{\"color\":\"white\"}},\"header\":{\"fill\":{\"color\":\"rgb(217,217,217)\"},\"line\":{\"color\":\"white\"}},\"type\":\"table\"}]},\"layout\":{\"annotationdefaults\":{\"arrowhead\":0,\"arrowwidth\":1},\"autotypenumbers\":\"strict\",\"coloraxis\":{\"colorbar\":{\"outlinewidth\":0,\"tickcolor\":\"rgb(237,237,237)\",\"ticklen\":6,\"ticks\":\"inside\"}},\"colorscale\":{\"sequential\":[[0,\"rgb(20,44,66)\"],[1,\"rgb(90,179,244)\"]],\"sequentialminus\":[[0,\"rgb(20,44,66)\"],[1,\"rgb(90,179,244)\"]]},\"colorway\":[\"#F8766D\",\"#A3A500\",\"#00BF7D\",\"#00B0F6\",\"#E76BF3\"],\"font\":{\"color\":\"rgb(51,51,51)\"},\"geo\":{\"bgcolor\":\"white\",\"lakecolor\":\"white\",\"landcolor\":\"rgb(237,237,237)\",\"showlakes\":true,\"showland\":true,\"subunitcolor\":\"white\"},\"hoverlabel\":{\"align\":\"left\"},\"hovermode\":\"closest\",\"paper_bgcolor\":\"white\",\"plot_bgcolor\":\"rgb(237,237,237)\",\"polar\":{\"angularaxis\":{\"gridcolor\":\"white\",\"linecolor\":\"white\",\"showgrid\":true,\"tickcolor\":\"rgb(51,51,51)\",\"ticks\":\"outside\"},\"bgcolor\":\"rgb(237,237,237)\",\"radialaxis\":{\"gridcolor\":\"white\",\"linecolor\":\"white\",\"showgrid\":true,\"tickcolor\":\"rgb(51,51,51)\",\"ticks\":\"outside\"}},\"scene\":{\"xaxis\":{\"backgroundcolor\":\"rgb(237,237,237)\",\"gridcolor\":\"white\",\"gridwidth\":2,\"linecolor\":\"white\",\"showbackground\":true,\"showgrid\":true,\"tickcolor\":\"rgb(51,51,51)\",\"ticks\":\"outside\",\"zerolinecolor\":\"white\"},\"yaxis\":{\"backgroundcolor\":\"rgb(237,237,237)\",\"gridcolor\":\"white\",\"gridwidth\":2,\"linecolor\":\"white\",\"showbackground\":true,\"showgrid\":true,\"tickcolor\":\"rgb(51,51,51)\",\"ticks\":\"outside\",\"zerolinecolor\":\"white\"},\"zaxis\":{\"backgroundcolor\":\"rgb(237,237,237)\",\"gridcolor\":\"white\",\"gridwidth\":2,\"linecolor\":\"white\",\"showbackground\":true,\"showgrid\":true,\"tickcolor\":\"rgb(51,51,51)\",\"ticks\":\"outside\",\"zerolinecolor\":\"white\"}},\"shapedefaults\":{\"fillcolor\":\"black\",\"line\":{\"width\":0},\"opacity\":0.3},\"ternary\":{\"aaxis\":{\"gridcolor\":\"white\",\"linecolor\":\"white\",\"showgrid\":true,\"tickcolor\":\"rgb(51,51,51)\",\"ticks\":\"outside\"},\"baxis\":{\"gridcolor\":\"white\",\"linecolor\":\"white\",\"showgrid\":true,\"tickcolor\":\"rgb(51,51,51)\",\"ticks\":\"outside\"},\"bgcolor\":\"rgb(237,237,237)\",\"caxis\":{\"gridcolor\":\"white\",\"linecolor\":\"white\",\"showgrid\":true,\"tickcolor\":\"rgb(51,51,51)\",\"ticks\":\"outside\"}},\"xaxis\":{\"automargin\":true,\"gridcolor\":\"white\",\"linecolor\":\"white\",\"showgrid\":true,\"tickcolor\":\"rgb(51,51,51)\",\"ticks\":\"outside\",\"title\":{\"standoff\":15},\"zerolinecolor\":\"white\"},\"yaxis\":{\"automargin\":true,\"gridcolor\":\"white\",\"linecolor\":\"white\",\"showgrid\":true,\"tickcolor\":\"rgb(51,51,51)\",\"ticks\":\"outside\",\"title\":{\"standoff\":15},\"zerolinecolor\":\"white\"}}},\"xaxis\":{\"anchor\":\"y\",\"domain\":[0.0,1.0],\"title\":{\"text\":\"Renda per Capita (R$)\"},\"range\":[500,2500],\"nticks\":5},\"yaxis\":{\"anchor\":\"x\",\"domain\":[0.0,1.0],\"title\":{\"text\":\"Expectativa de Vida (em anos)\"},\"range\":[70,82],\"nticks\":7},\"legend\":{\"title\":{\"text\":\"Regi\\u00e3o\"},\"tracegroupgap\":0,\"itemsizing\":\"constant\"},\"title\":{\"text\":\"Expectativa de Vida vs Renda per Capita no Brasil - por UF\"},\"height\":600,\"width\":1200},                        {\"responsive\": true}                    ).then(function(){\n",
       "                            \n",
       "var gd = document.getElementById('0d92d821-82e1-462e-aa82-9285d4292559');\n",
       "var x = new MutationObserver(function (mutations, observer) {{\n",
       "        var display = window.getComputedStyle(gd).display;\n",
       "        if (!display || display === 'none') {{\n",
       "            console.log([gd, 'removed!']);\n",
       "            Plotly.purge(gd);\n",
       "            observer.disconnect();\n",
       "        }}\n",
       "}});\n",
       "\n",
       "// Listen for the removal of the full notebook cells\n",
       "var notebookContainer = gd.closest('#notebook-container');\n",
       "if (notebookContainer) {{\n",
       "    x.observe(notebookContainer, {childList: true});\n",
       "}}\n",
       "\n",
       "// Listen for the clearing of the current output cell\n",
       "var outputEl = gd.closest('.output');\n",
       "if (outputEl) {{\n",
       "    x.observe(outputEl, {childList: true});\n",
       "}}\n",
       "\n",
       "                        })                };                });            </script>        </div>"
      ]
     },
     "metadata": {},
     "output_type": "display_data"
    }
   ],
   "source": [
    "fig = px.scatter(df, x=\"rpc\", y=\"exp\", color=\"reg\", size=\"pop\", size_max=50, opacity=0.8, text=\"uf\",\n",
    "                 labels={\n",
    "                     \"exp\": \"Expectativa de Vida (em anos)\",\n",
    "                     \"rpc\": \"Renda per Capita (R$)\",\n",
    "                     \"reg\": \"Região\"\n",
    "                 },\n",
    "                title=\"Expectativa de Vida vs Renda per Capita no Brasil - por UF\",\n",
    "                template=\"ggplot2\",\n",
    "                width=1200,\n",
    "                height=600)\n",
    "fig.update_xaxes(range=[500, 2500], nticks=5)\n",
    "fig.update_yaxes(range=[70, 82], nticks=7)\n",
    "fig.update_traces(textposition='middle center', textfont_size=9)\n",
    "fig.show()"
   ]
  },
  {
   "cell_type": "code",
   "execution_count": null,
   "id": "9be14413-621d-401a-9c79-be4067b9f631",
   "metadata": {},
   "outputs": [],
   "source": []
  }
 ],
 "metadata": {
  "kernelspec": {
   "display_name": "Python 3 (ipykernel)",
   "language": "python",
   "name": "python3"
  },
  "language_info": {
   "codemirror_mode": {
    "name": "ipython",
    "version": 3
   },
   "file_extension": ".py",
   "mimetype": "text/x-python",
   "name": "python",
   "nbconvert_exporter": "python",
   "pygments_lexer": "ipython3",
   "version": "3.8.8"
  }
 },
 "nbformat": 4,
 "nbformat_minor": 5
}
